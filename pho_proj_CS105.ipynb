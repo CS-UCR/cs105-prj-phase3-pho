{
 "cells": [
  {
   "cell_type": "markdown",
   "metadata": {},
   "source": [
    "# Questions: What are the best features to use when predicting totalGold? What are the best features to use when predicting level without using xp?"
   ]
  },
  {
   "cell_type": "code",
   "execution_count": 232,
   "metadata": {},
   "outputs": [],
   "source": [
    "import numpy as np\n",
    "import pandas as pd\n",
    "import matplotlib.mlab as mlab\n",
    "import matplotlib.pyplot as plt\n",
    "import json\n",
    "import pylab\n",
    "from sklearn.linear_model import LinearRegression\n",
    "from sklearn.model_selection import cross_val_score\n",
    "from sklearn.metrics import mean_squared_error\n",
    "from sklearn.preprocessing import StandardScaler\n",
    "from sklearn.linear_model import SGDRegressor\n",
    "from sklearn.pipeline import make_pipeline"
   ]
  },
  {
   "cell_type": "markdown",
   "metadata": {},
   "source": [
    "# Import Data"
   ]
  },
  {
   "cell_type": "code",
   "execution_count": 3,
   "metadata": {},
   "outputs": [
    {
     "data": {
      "text/html": [
       "<div>\n",
       "<style scoped>\n",
       "    .dataframe tbody tr th:only-of-type {\n",
       "        vertical-align: middle;\n",
       "    }\n",
       "\n",
       "    .dataframe tbody tr th {\n",
       "        vertical-align: top;\n",
       "    }\n",
       "\n",
       "    .dataframe thead th {\n",
       "        text-align: right;\n",
       "    }\n",
       "</style>\n",
       "<table border=\"1\" class=\"dataframe\">\n",
       "  <thead>\n",
       "    <tr style=\"text-align: right;\">\n",
       "      <th></th>\n",
       "      <th>data</th>\n",
       "    </tr>\n",
       "  </thead>\n",
       "  <tbody>\n",
       "    <tr>\n",
       "      <th>0</th>\n",
       "      <td>{'frames': [{'participantFrames': {'1': {'part...</td>\n",
       "    </tr>\n",
       "    <tr>\n",
       "      <th>1</th>\n",
       "      <td>{'frames': [{'participantFrames': {'1': {'part...</td>\n",
       "    </tr>\n",
       "    <tr>\n",
       "      <th>2</th>\n",
       "      <td>{'frames': [{'participantFrames': {'1': {'part...</td>\n",
       "    </tr>\n",
       "    <tr>\n",
       "      <th>3</th>\n",
       "      <td>{'frames': [{'participantFrames': {'1': {'part...</td>\n",
       "    </tr>\n",
       "    <tr>\n",
       "      <th>4</th>\n",
       "      <td>{'frames': [{'participantFrames': {'1': {'part...</td>\n",
       "    </tr>\n",
       "    <tr>\n",
       "      <th>...</th>\n",
       "      <td>...</td>\n",
       "    </tr>\n",
       "    <tr>\n",
       "      <th>993</th>\n",
       "      <td>{'frames': [{'participantFrames': {'1': {'part...</td>\n",
       "    </tr>\n",
       "    <tr>\n",
       "      <th>994</th>\n",
       "      <td>{'frames': [{'participantFrames': {'1': {'part...</td>\n",
       "    </tr>\n",
       "    <tr>\n",
       "      <th>995</th>\n",
       "      <td>{'frames': [{'participantFrames': {'1': {'part...</td>\n",
       "    </tr>\n",
       "    <tr>\n",
       "      <th>996</th>\n",
       "      <td>{'frames': [{'participantFrames': {'1': {'part...</td>\n",
       "    </tr>\n",
       "    <tr>\n",
       "      <th>997</th>\n",
       "      <td>{'frames': [{'participantFrames': {'1': {'part...</td>\n",
       "    </tr>\n",
       "  </tbody>\n",
       "</table>\n",
       "<p>998 rows × 1 columns</p>\n",
       "</div>"
      ],
      "text/plain": [
       "                                                  data\n",
       "0    {'frames': [{'participantFrames': {'1': {'part...\n",
       "1    {'frames': [{'participantFrames': {'1': {'part...\n",
       "2    {'frames': [{'participantFrames': {'1': {'part...\n",
       "3    {'frames': [{'participantFrames': {'1': {'part...\n",
       "4    {'frames': [{'participantFrames': {'1': {'part...\n",
       "..                                                 ...\n",
       "993  {'frames': [{'participantFrames': {'1': {'part...\n",
       "994  {'frames': [{'participantFrames': {'1': {'part...\n",
       "995  {'frames': [{'participantFrames': {'1': {'part...\n",
       "996  {'frames': [{'participantFrames': {'1': {'part...\n",
       "997  {'frames': [{'participantFrames': {'1': {'part...\n",
       "\n",
       "[998 rows x 1 columns]"
      ]
     },
     "execution_count": 3,
     "metadata": {},
     "output_type": "execute_result"
    }
   ],
   "source": [
    "df3 = pd.read_json(\"back2.json\")\n",
    "df3"
   ]
  },
  {
   "cell_type": "code",
   "execution_count": null,
   "metadata": {},
   "outputs": [],
   "source": [
    "df4 = pd.DataFrame(columns=['dataId', 'frameNo', 'participantId', 'currentGold', 'totalGold', 'level', 'xp', 'minionsKilled', 'jungleMinionsKilled'])\n",
    "did = 0\n",
    "fid = 0\n",
    "for a in df3['data']:\n",
    "    for b in a['frames']:\n",
    "        for c in b['participantFrames']:\n",
    "            df4 = df4.append({'dataId' : did, 'frameNo' : fid, 'participantId' : b['participantFrames'][c]['participantId'], 'currentGold' : b['participantFrames'][c]['currentGold'], 'totalGold' : b['participantFrames'][c]['totalGold'], 'level' : b['participantFrames'][c]['level'], 'xp' : b['participantFrames'][c]['xp'], 'minionsKilled' : b['participantFrames'][c]['minionsKilled'], 'jungleMinionsKilled' : b['participantFrames'][c]['jungleMinionsKilled']}, ignore_index=True)\n",
    "df4"
   ]
  },
  {
   "cell_type": "markdown",
   "metadata": {},
   "source": [
    "# Clean Data"
   ]
  },
  {
   "cell_type": "code",
   "execution_count": 233,
   "metadata": {},
   "outputs": [
    {
     "data": {
      "text/plain": [
       "dataId                 object\n",
       "frameNo                object\n",
       "participantId          object\n",
       "currentGold            object\n",
       "totalGold               int64\n",
       "level                   int64\n",
       "xp                      int64\n",
       "minionsKilled           int64\n",
       "jungleMinionsKilled     int64\n",
       "totalMinionsKilled      int64\n",
       "dtype: object"
      ]
     },
     "execution_count": 233,
     "metadata": {},
     "output_type": "execute_result"
    }
   ],
   "source": [
    "df4[\"totalGold\"] = df4[\"totalGold\"].astype('int64') #convert data to int64's and add totalMinionsKilled column\n",
    "df4[\"level\"] = df4[\"level\"].astype('int64')\n",
    "df4[\"xp\"] = df4[\"xp\"].astype('int64')\n",
    "df4[\"minionsKilled\"] = df4[\"minionsKilled\"].astype('int64')\n",
    "df4[\"jungleMinionsKilled\"] = df4[\"jungleMinionsKilled\"].astype('int64')\n",
    "df4[\"totalMinionsKilled\"] = df4[\"jungleMinionsKilled\"] + df4[\"minionsKilled\"]\n",
    "df4.dtypes"
   ]
  },
  {
   "cell_type": "markdown",
   "metadata": {},
   "source": [
    "# Training and Testing Sets"
   ]
  },
  {
   "cell_type": "code",
   "execution_count": 205,
   "metadata": {},
   "outputs": [],
   "source": [
    "df4 = df4.sample(frac=1) #randomizes the values\n",
    "ten = int(len(df4.index) * .1) #gets 10% of the data for splitting between training and test sets\n",
    "df_train = df4[:ten]\n",
    "df_test = df4[ten:]"
   ]
  },
  {
   "cell_type": "code",
   "execution_count": 206,
   "metadata": {},
   "outputs": [
    {
     "data": {
      "text/html": [
       "<div>\n",
       "<style scoped>\n",
       "    .dataframe tbody tr th:only-of-type {\n",
       "        vertical-align: middle;\n",
       "    }\n",
       "\n",
       "    .dataframe tbody tr th {\n",
       "        vertical-align: top;\n",
       "    }\n",
       "\n",
       "    .dataframe thead th {\n",
       "        text-align: right;\n",
       "    }\n",
       "</style>\n",
       "<table border=\"1\" class=\"dataframe\">\n",
       "  <thead>\n",
       "    <tr style=\"text-align: right;\">\n",
       "      <th></th>\n",
       "      <th>dataId</th>\n",
       "      <th>frameNo</th>\n",
       "      <th>participantId</th>\n",
       "      <th>currentGold</th>\n",
       "      <th>totalGold</th>\n",
       "      <th>level</th>\n",
       "      <th>xp</th>\n",
       "      <th>minionsKilled</th>\n",
       "      <th>jungleMinionsKilled</th>\n",
       "      <th>totalMinionsKilled</th>\n",
       "    </tr>\n",
       "  </thead>\n",
       "  <tbody>\n",
       "    <tr>\n",
       "      <th>45646</th>\n",
       "      <td>161</td>\n",
       "      <td>1</td>\n",
       "      <td>7</td>\n",
       "      <td>500</td>\n",
       "      <td>500</td>\n",
       "      <td>1</td>\n",
       "      <td>0</td>\n",
       "      <td>0</td>\n",
       "      <td>0</td>\n",
       "      <td>0</td>\n",
       "    </tr>\n",
       "    <tr>\n",
       "      <th>137554</th>\n",
       "      <td>499</td>\n",
       "      <td>14</td>\n",
       "      <td>5</td>\n",
       "      <td>535</td>\n",
       "      <td>4235</td>\n",
       "      <td>9</td>\n",
       "      <td>5683</td>\n",
       "      <td>83</td>\n",
       "      <td>0</td>\n",
       "      <td>83</td>\n",
       "    </tr>\n",
       "    <tr>\n",
       "      <th>254294</th>\n",
       "      <td>936</td>\n",
       "      <td>4</td>\n",
       "      <td>5</td>\n",
       "      <td>969</td>\n",
       "      <td>3069</td>\n",
       "      <td>5</td>\n",
       "      <td>2210</td>\n",
       "      <td>4</td>\n",
       "      <td>0</td>\n",
       "      <td>4</td>\n",
       "    </tr>\n",
       "    <tr>\n",
       "      <th>195092</th>\n",
       "      <td>716</td>\n",
       "      <td>16</td>\n",
       "      <td>5</td>\n",
       "      <td>696</td>\n",
       "      <td>7204</td>\n",
       "      <td>12</td>\n",
       "      <td>8656</td>\n",
       "      <td>130</td>\n",
       "      <td>4</td>\n",
       "      <td>134</td>\n",
       "    </tr>\n",
       "    <tr>\n",
       "      <th>6646</th>\n",
       "      <td>23</td>\n",
       "      <td>14</td>\n",
       "      <td>6</td>\n",
       "      <td>160</td>\n",
       "      <td>4035</td>\n",
       "      <td>8</td>\n",
       "      <td>4296</td>\n",
       "      <td>3</td>\n",
       "      <td>61</td>\n",
       "      <td>64</td>\n",
       "    </tr>\n",
       "  </tbody>\n",
       "</table>\n",
       "</div>"
      ],
      "text/plain": [
       "       dataId frameNo participantId currentGold  totalGold  level    xp  \\\n",
       "45646     161       1             7         500        500      1     0   \n",
       "137554    499      14             5         535       4235      9  5683   \n",
       "254294    936       4             5         969       3069      5  2210   \n",
       "195092    716      16             5         696       7204     12  8656   \n",
       "6646       23      14             6         160       4035      8  4296   \n",
       "\n",
       "        minionsKilled  jungleMinionsKilled  totalMinionsKilled  \n",
       "45646               0                    0                   0  \n",
       "137554             83                    0                  83  \n",
       "254294              4                    0                   4  \n",
       "195092            130                    4                 134  \n",
       "6646                3                   61                  64  "
      ]
     },
     "execution_count": 206,
     "metadata": {},
     "output_type": "execute_result"
    }
   ],
   "source": [
    "df_train.head(5)"
   ]
  },
  {
   "cell_type": "code",
   "execution_count": 207,
   "metadata": {},
   "outputs": [
    {
     "data": {
      "text/html": [
       "<div>\n",
       "<style scoped>\n",
       "    .dataframe tbody tr th:only-of-type {\n",
       "        vertical-align: middle;\n",
       "    }\n",
       "\n",
       "    .dataframe tbody tr th {\n",
       "        vertical-align: top;\n",
       "    }\n",
       "\n",
       "    .dataframe thead th {\n",
       "        text-align: right;\n",
       "    }\n",
       "</style>\n",
       "<table border=\"1\" class=\"dataframe\">\n",
       "  <thead>\n",
       "    <tr style=\"text-align: right;\">\n",
       "      <th></th>\n",
       "      <th>dataId</th>\n",
       "      <th>frameNo</th>\n",
       "      <th>participantId</th>\n",
       "      <th>currentGold</th>\n",
       "      <th>totalGold</th>\n",
       "      <th>level</th>\n",
       "      <th>xp</th>\n",
       "      <th>minionsKilled</th>\n",
       "      <th>jungleMinionsKilled</th>\n",
       "      <th>totalMinionsKilled</th>\n",
       "    </tr>\n",
       "  </thead>\n",
       "  <tbody>\n",
       "    <tr>\n",
       "      <th>116899</th>\n",
       "      <td>423</td>\n",
       "      <td>1</td>\n",
       "      <td>10</td>\n",
       "      <td>1400</td>\n",
       "      <td>1400</td>\n",
       "      <td>1</td>\n",
       "      <td>660</td>\n",
       "      <td>0</td>\n",
       "      <td>0</td>\n",
       "      <td>0</td>\n",
       "    </tr>\n",
       "    <tr>\n",
       "      <th>72292</th>\n",
       "      <td>258</td>\n",
       "      <td>5</td>\n",
       "      <td>4</td>\n",
       "      <td>133</td>\n",
       "      <td>1183</td>\n",
       "      <td>4</td>\n",
       "      <td>1385</td>\n",
       "      <td>21</td>\n",
       "      <td>0</td>\n",
       "      <td>21</td>\n",
       "    </tr>\n",
       "    <tr>\n",
       "      <th>96544</th>\n",
       "      <td>348</td>\n",
       "      <td>24</td>\n",
       "      <td>5</td>\n",
       "      <td>195</td>\n",
       "      <td>9845</td>\n",
       "      <td>13</td>\n",
       "      <td>10825</td>\n",
       "      <td>147</td>\n",
       "      <td>8</td>\n",
       "      <td>155</td>\n",
       "    </tr>\n",
       "    <tr>\n",
       "      <th>115840</th>\n",
       "      <td>419</td>\n",
       "      <td>9</td>\n",
       "      <td>5</td>\n",
       "      <td>612</td>\n",
       "      <td>2712</td>\n",
       "      <td>7</td>\n",
       "      <td>3831</td>\n",
       "      <td>57</td>\n",
       "      <td>0</td>\n",
       "      <td>57</td>\n",
       "    </tr>\n",
       "    <tr>\n",
       "      <th>246528</th>\n",
       "      <td>908</td>\n",
       "      <td>6</td>\n",
       "      <td>9</td>\n",
       "      <td>455</td>\n",
       "      <td>3655</td>\n",
       "      <td>6</td>\n",
       "      <td>3073</td>\n",
       "      <td>3</td>\n",
       "      <td>0</td>\n",
       "      <td>3</td>\n",
       "    </tr>\n",
       "  </tbody>\n",
       "</table>\n",
       "</div>"
      ],
      "text/plain": [
       "       dataId frameNo participantId currentGold  totalGold  level     xp  \\\n",
       "116899    423       1            10        1400       1400      1    660   \n",
       "72292     258       5             4         133       1183      4   1385   \n",
       "96544     348      24             5         195       9845     13  10825   \n",
       "115840    419       9             5         612       2712      7   3831   \n",
       "246528    908       6             9         455       3655      6   3073   \n",
       "\n",
       "        minionsKilled  jungleMinionsKilled  totalMinionsKilled  \n",
       "116899              0                    0                   0  \n",
       "72292              21                    0                  21  \n",
       "96544             147                    8                 155  \n",
       "115840             57                    0                  57  \n",
       "246528              3                    0                   3  "
      ]
     },
     "execution_count": 207,
     "metadata": {},
     "output_type": "execute_result"
    }
   ],
   "source": [
    "df_test.head(5)"
   ]
  },
  {
   "cell_type": "markdown",
   "metadata": {},
   "source": [
    "# Predicting Gold"
   ]
  },
  {
   "cell_type": "code",
   "execution_count": 208,
   "metadata": {},
   "outputs": [
    {
     "data": {
      "text/plain": [
       "array([846.84885542])"
      ]
     },
     "execution_count": 208,
     "metadata": {},
     "output_type": "execute_result"
    }
   ],
   "source": [
    "X_train = df_train.copy(deep=True)\n",
    "X_train = X_train[[\"level\"]]\n",
    "X_test = df_test.copy(deep=True)\n",
    "X_test = X_test[[\"level\"]]\n",
    "y_train = df_train[\"totalGold\"]\n",
    "y_test = df_test[\"totalGold\"]\n",
    "model = LinearRegression()\n",
    "model.fit(X=X_train, y=y_train)\n",
    "Y_predict = model.predict(X=X_train)\n",
    "model.coef_"
   ]
  },
  {
   "cell_type": "markdown",
   "metadata": {},
   "source": [
    "It seems for every level there is about 846 gold income. At level 18 (the max level) any player will have about 15,000 gold which is around 5 items which makes sense."
   ]
  },
  {
   "cell_type": "code",
   "execution_count": 209,
   "metadata": {},
   "outputs": [
    {
     "data": {
      "text/plain": [
       "array([0.85882305, 0.86171407, 0.8666114 , 0.86770675, 0.87125931,\n",
       "       0.87002529, 0.87040529, 0.86233782, 0.86770266, 0.85735989])"
      ]
     },
     "execution_count": 209,
     "metadata": {},
     "output_type": "execute_result"
    }
   ],
   "source": [
    "pipeline = make_pipeline(StandardScaler(), SGDRegressor())\n",
    "pipeline.fit(X=X_train, y=y_train)\n",
    "scores = cross_val_score(pipeline, X=X_train, y=y_train, cv=10)\n",
    "scores"
   ]
  },
  {
   "cell_type": "code",
   "execution_count": 210,
   "metadata": {},
   "outputs": [
    {
     "data": {
      "text/plain": [
       "0.8653945522760399"
      ]
     },
     "execution_count": 210,
     "metadata": {},
     "output_type": "execute_result"
    }
   ],
   "source": [
    "scores.mean()"
   ]
  },
  {
   "cell_type": "code",
   "execution_count": 211,
   "metadata": {},
   "outputs": [
    {
     "data": {
      "text/plain": [
       "0.8673694088485094"
      ]
     },
     "execution_count": 211,
     "metadata": {},
     "output_type": "execute_result"
    }
   ],
   "source": [
    "from sklearn.neighbors import KNeighborsRegressor\n",
    "temp = KNeighborsRegressor(n_neighbors = 3)\n",
    "temp.fit(X_train, y_train)\n",
    "temp.score(X_test, y_test)"
   ]
  },
  {
   "cell_type": "code",
   "execution_count": 212,
   "metadata": {},
   "outputs": [
    {
     "data": {
      "text/plain": [
       "array([775.6811595,   6.1681976,  11.2586585])"
      ]
     },
     "execution_count": 212,
     "metadata": {},
     "output_type": "execute_result"
    }
   ],
   "source": [
    "X_train = df_train.copy(deep=True)\n",
    "X_train = X_train[[\"level\", 'minionsKilled', \"jungleMinionsKilled\"]]\n",
    "X_test = df_test.copy(deep=True)\n",
    "X_test = X_test[[\"level\", 'minionsKilled', \"jungleMinionsKilled\"]]\n",
    "y_train = df_train[\"totalGold\"]\n",
    "y_test = df_test[\"totalGold\"]\n",
    "model = LinearRegression()\n",
    "model.fit(X=X_train, y=y_train)\n",
    "Y_predict = model.predict(X=X_train)\n",
    "model.coef_"
   ]
  },
  {
   "cell_type": "markdown",
   "metadata": {},
   "source": [
    "Adding the importance of minionsKilled and jungleMinionsKilled decreases the importance of level in predicting totalGold. Level will change totalGold less because for each minionsKilled and jungleMinionsKilled the gold value increases."
   ]
  },
  {
   "cell_type": "code",
   "execution_count": 213,
   "metadata": {},
   "outputs": [
    {
     "data": {
      "text/plain": [
       "array([0.86578089, 0.86694473, 0.87259903, 0.87236459, 0.87645978,\n",
       "       0.87540683, 0.87497875, 0.86980033, 0.87308182, 0.86273382])"
      ]
     },
     "execution_count": 213,
     "metadata": {},
     "output_type": "execute_result"
    }
   ],
   "source": [
    "pipeline = make_pipeline(StandardScaler(), SGDRegressor())\n",
    "pipeline.fit(X=X_train, y=y_train)\n",
    "scores = cross_val_score(pipeline, X=X_train, y=y_train, cv=10)\n",
    "scores"
   ]
  },
  {
   "cell_type": "code",
   "execution_count": 214,
   "metadata": {},
   "outputs": [
    {
     "data": {
      "text/plain": [
       "0.8710150594205792"
      ]
     },
     "execution_count": 214,
     "metadata": {},
     "output_type": "execute_result"
    }
   ],
   "source": [
    "scores.mean()"
   ]
  },
  {
   "cell_type": "code",
   "execution_count": 215,
   "metadata": {},
   "outputs": [
    {
     "data": {
      "text/plain": [
       "0.902356485312228"
      ]
     },
     "execution_count": 215,
     "metadata": {},
     "output_type": "execute_result"
    }
   ],
   "source": [
    "from sklearn.neighbors import KNeighborsRegressor\n",
    "temp = KNeighborsRegressor(n_neighbors = 3)\n",
    "temp.fit(X_train, y_train)\n",
    "temp.score(X_test, y_test)"
   ]
  },
  {
   "cell_type": "code",
   "execution_count": 216,
   "metadata": {},
   "outputs": [
    {
     "data": {
      "text/plain": [
       "array([774.96223903,   7.19913995])"
      ]
     },
     "execution_count": 216,
     "metadata": {},
     "output_type": "execute_result"
    }
   ],
   "source": [
    "X_train = df_train.copy(deep=True)\n",
    "X_train = X_train[[\"level\", \"totalMinionsKilled\"]]\n",
    "X_test = df_test.copy(deep=True)\n",
    "X_test = X_test[[\"level\", \"totalMinionsKilled\"]]\n",
    "y_train = df_train[\"totalGold\"]\n",
    "y_test = df_test[\"totalGold\"]\n",
    "model = LinearRegression()\n",
    "model.fit(X=X_train, y=y_train)\n",
    "Y_predict = model.predict(X=X_train)\n",
    "model.coef_"
   ]
  },
  {
   "cell_type": "markdown",
   "metadata": {},
   "source": [
    "Compared to using minionsKilled and jungleMinionsKilled, totalMinionsKilled has less weight that the other two combined but keeps the weight for level about the same. However, the accuracies are about the same\n"
   ]
  },
  {
   "cell_type": "code",
   "execution_count": 217,
   "metadata": {},
   "outputs": [
    {
     "data": {
      "text/plain": [
       "array([0.86366941, 0.86561795, 0.87195047, 0.8711079 , 0.87518763,\n",
       "       0.87442019, 0.87440538, 0.86816714, 0.87176525, 0.86139265])"
      ]
     },
     "execution_count": 217,
     "metadata": {},
     "output_type": "execute_result"
    }
   ],
   "source": [
    "pipeline = make_pipeline(StandardScaler(), SGDRegressor())\n",
    "pipeline.fit(X=X_train, y=y_train)\n",
    "scores = cross_val_score(pipeline, X=X_train, y=y_train, cv=10)\n",
    "scores"
   ]
  },
  {
   "cell_type": "code",
   "execution_count": 218,
   "metadata": {},
   "outputs": [
    {
     "data": {
      "text/plain": [
       "0.8697683974759416"
      ]
     },
     "execution_count": 218,
     "metadata": {},
     "output_type": "execute_result"
    }
   ],
   "source": [
    "scores.mean()"
   ]
  },
  {
   "cell_type": "code",
   "execution_count": 219,
   "metadata": {},
   "outputs": [
    {
     "data": {
      "text/plain": [
       "0.9006487356045036"
      ]
     },
     "execution_count": 219,
     "metadata": {},
     "output_type": "execute_result"
    }
   ],
   "source": [
    "from sklearn.neighbors import KNeighborsRegressor\n",
    "temp = KNeighborsRegressor(n_neighbors = 3)\n",
    "temp.fit(X_train, y_train)\n",
    "temp.score(X_test, y_test)"
   ]
  },
  {
   "cell_type": "markdown",
   "metadata": {},
   "source": [
    "The difference between predicting totalGold with minions is definitely better than without using minions. Using totalMinionsKilled vs minionsKilled and jungleMinionsKilled does not make too much of a difference either. KNN was always better except on the run using only level the accuracies were very close so mileage may vary depending on the run."
   ]
  },
  {
   "cell_type": "markdown",
   "metadata": {},
   "source": [
    "# Predicting Level"
   ]
  },
  {
   "cell_type": "code",
   "execution_count": 220,
   "metadata": {},
   "outputs": [
    {
     "data": {
      "text/plain": [
       "array([0.00102206])"
      ]
     },
     "execution_count": 220,
     "metadata": {},
     "output_type": "execute_result"
    }
   ],
   "source": [
    "X_train = df_train.copy(deep=True)\n",
    "X_train = X_train[[\"totalGold\"]]\n",
    "X_test = df_test.copy(deep=True)\n",
    "X_test = X_test[[\"totalGold\"]]\n",
    "y_train = df_train[\"level\"]\n",
    "y_test = df_test[\"level\"]\n",
    "model = LinearRegression()\n",
    "model.fit(X=X_train, y=y_train)\n",
    "Y_predict = model.predict(X=X_train)\n",
    "model.coef_"
   ]
  },
  {
   "cell_type": "markdown",
   "metadata": {},
   "source": [
    "Because the total gold will be a large amount and level will be between 1 and 18, the coefficient is very low."
   ]
  },
  {
   "cell_type": "code",
   "execution_count": 221,
   "metadata": {},
   "outputs": [
    {
     "data": {
      "text/plain": [
       "array([0.85893533, 0.86192055, 0.86653482, 0.86758851, 0.87098389,\n",
       "       0.87003382, 0.87037929, 0.86231034, 0.86784064, 0.85788161])"
      ]
     },
     "execution_count": 221,
     "metadata": {},
     "output_type": "execute_result"
    }
   ],
   "source": [
    "pipeline = make_pipeline(StandardScaler(), SGDRegressor())\n",
    "pipeline.fit(X=X_train, y=y_train)\n",
    "scores = cross_val_score(pipeline, X=X_train, y=y_train, cv=10)\n",
    "scores"
   ]
  },
  {
   "cell_type": "code",
   "execution_count": 222,
   "metadata": {},
   "outputs": [
    {
     "data": {
      "text/plain": [
       "0.8654408816264088"
      ]
     },
     "execution_count": 222,
     "metadata": {},
     "output_type": "execute_result"
    }
   ],
   "source": [
    "scores.mean()"
   ]
  },
  {
   "cell_type": "code",
   "execution_count": 223,
   "metadata": {},
   "outputs": [
    {
     "data": {
      "text/plain": [
       "0.9143195417886715"
      ]
     },
     "execution_count": 223,
     "metadata": {},
     "output_type": "execute_result"
    }
   ],
   "source": [
    "from sklearn.neighbors import KNeighborsRegressor\n",
    "temp = KNeighborsRegressor(n_neighbors = 3)\n",
    "temp.fit(X_train, y_train)\n",
    "temp.score(X_test, y_test)"
   ]
  },
  {
   "cell_type": "code",
   "execution_count": 224,
   "metadata": {},
   "outputs": [
    {
     "data": {
      "text/plain": [
       "array([0.00090524, 0.01185537, 0.00675202])"
      ]
     },
     "execution_count": 224,
     "metadata": {},
     "output_type": "execute_result"
    }
   ],
   "source": [
    "X_train = df_train.copy(deep=True)\n",
    "X_train = X_train[[\"totalGold\", 'minionsKilled', \"jungleMinionsKilled\"]]\n",
    "X_test = df_test.copy(deep=True)\n",
    "X_test = X_test[[\"totalGold\", 'minionsKilled', \"jungleMinionsKilled\"]]\n",
    "y_train = df_train[\"level\"]\n",
    "y_test = df_test[\"level\"]\n",
    "model = LinearRegression()\n",
    "model.fit(X=X_train, y=y_train)\n",
    "Y_predict = model.predict(X=X_train)\n",
    "model.coef_"
   ]
  },
  {
   "cell_type": "markdown",
   "metadata": {},
   "source": [
    "Because the total gold will be a large amount, minonsKilled will be relatively low, jungleminionsKilled will relatively low, and level will be between 1 and 18, the coefficients are very low. Minions killed however has the largest coefficient probably because it has the most significance."
   ]
  },
  {
   "cell_type": "code",
   "execution_count": 225,
   "metadata": {},
   "outputs": [
    {
     "data": {
      "text/plain": [
       "array([0.86989386, 0.87286617, 0.87351388, 0.87901989, 0.88045366,\n",
       "       0.8794688 , 0.87910849, 0.87063718, 0.87749392, 0.86960695])"
      ]
     },
     "execution_count": 225,
     "metadata": {},
     "output_type": "execute_result"
    }
   ],
   "source": [
    "pipeline = make_pipeline(StandardScaler(), SGDRegressor())\n",
    "pipeline.fit(X=X_train, y=y_train)\n",
    "scores = cross_val_score(pipeline, X=X_train, y=y_train, cv=10)\n",
    "scores"
   ]
  },
  {
   "cell_type": "code",
   "execution_count": 226,
   "metadata": {},
   "outputs": [
    {
     "data": {
      "text/plain": [
       "0.875206282025859"
      ]
     },
     "execution_count": 226,
     "metadata": {},
     "output_type": "execute_result"
    }
   ],
   "source": [
    "scores.mean()"
   ]
  },
  {
   "cell_type": "code",
   "execution_count": 227,
   "metadata": {},
   "outputs": [
    {
     "data": {
      "text/plain": [
       "0.9273790785398349"
      ]
     },
     "execution_count": 227,
     "metadata": {},
     "output_type": "execute_result"
    }
   ],
   "source": [
    "from sklearn.neighbors import KNeighborsRegressor\n",
    "temp = KNeighborsRegressor(n_neighbors = 3)\n",
    "temp.fit(X_train, y_train)\n",
    "temp.score(X_test, y_test)"
   ]
  },
  {
   "cell_type": "code",
   "execution_count": 228,
   "metadata": {},
   "outputs": [
    {
     "data": {
      "text/plain": [
       "array([0.00090332, 0.01096426])"
      ]
     },
     "execution_count": 228,
     "metadata": {},
     "output_type": "execute_result"
    }
   ],
   "source": [
    "X_train = df_train.copy(deep=True)\n",
    "X_train = X_train[[\"totalGold\", 'totalMinionsKilled']]\n",
    "X_test = df_test.copy(deep=True)\n",
    "X_test = X_test[[\"totalGold\", 'totalMinionsKilled']]\n",
    "y_train = df_train[\"level\"]\n",
    "y_test = df_test[\"level\"]\n",
    "model = LinearRegression()\n",
    "model.fit(X=X_train, y=y_train)\n",
    "Y_predict = model.predict(X=X_train)\n",
    "model.coef_"
   ]
  },
  {
   "cell_type": "markdown",
   "metadata": {},
   "source": [
    "Because the total gold will be a large amount, totalMinonsKilled will be medium, and level will be between 1 and 18, the coefficients are very low. totalMinionsKilled however has the largest coefficient probably because it has the most significance."
   ]
  },
  {
   "cell_type": "code",
   "execution_count": 229,
   "metadata": {},
   "outputs": [
    {
     "data": {
      "text/plain": [
       "array([0.86824901, 0.87202337, 0.8730647 , 0.87792018, 0.87936861,\n",
       "       0.87843584, 0.87838522, 0.86972297, 0.87677519, 0.8684813 ])"
      ]
     },
     "execution_count": 229,
     "metadata": {},
     "output_type": "execute_result"
    }
   ],
   "source": [
    "pipeline = make_pipeline(StandardScaler(), SGDRegressor())\n",
    "pipeline.fit(X=X_train, y=y_train)\n",
    "scores = cross_val_score(pipeline, X=X_train, y=y_train, cv=10)\n",
    "scores"
   ]
  },
  {
   "cell_type": "code",
   "execution_count": 230,
   "metadata": {},
   "outputs": [
    {
     "data": {
      "text/plain": [
       "0.8742426392073777"
      ]
     },
     "execution_count": 230,
     "metadata": {},
     "output_type": "execute_result"
    }
   ],
   "source": [
    "scores.mean()"
   ]
  },
  {
   "cell_type": "code",
   "execution_count": 231,
   "metadata": {},
   "outputs": [
    {
     "data": {
      "text/plain": [
       "0.9267886159529272"
      ]
     },
     "execution_count": 231,
     "metadata": {},
     "output_type": "execute_result"
    }
   ],
   "source": [
    "from sklearn.neighbors import KNeighborsRegressor\n",
    "temp = KNeighborsRegressor(n_neighbors = 3)\n",
    "temp.fit(X_train, y_train)\n",
    "temp.score(X_test, y_test)"
   ]
  },
  {
   "cell_type": "markdown",
   "metadata": {},
   "source": [
    "When predicting the level, KNN on average had about 5 more accuracy than is linear regression counterpart. Linear regression averaged around 87% and KNN averaged around 92%. totalGold, minionsKilled, and jungleMinionsKilled was about the same accuracy as totalGold and totalMinionsKilled, which makes sense because you gain xp by being around dying minions and champions. If you have more minions killed then you were more likely to be around minions that are dying. It generally does not matter the difference between jungle minions and regular minions because they give the same generaly amount of xp."
   ]
  }
 ],
 "metadata": {
  "kernelspec": {
   "display_name": "Python 3",
   "language": "python",
   "name": "python3"
  },
  "language_info": {
   "codemirror_mode": {
    "name": "ipython",
    "version": 3
   },
   "file_extension": ".py",
   "mimetype": "text/x-python",
   "name": "python",
   "nbconvert_exporter": "python",
   "pygments_lexer": "ipython3",
   "version": "3.6.8"
  }
 },
 "nbformat": 4,
 "nbformat_minor": 4
}
