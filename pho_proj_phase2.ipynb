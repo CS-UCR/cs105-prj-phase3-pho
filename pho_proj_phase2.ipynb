{
 "cells": [
  {
   "cell_type": "markdown",
   "metadata": {},
   "source": [
    "Reed Kanemaru 861284990"
   ]
  },
  {
   "cell_type": "code",
   "execution_count": 115,
   "metadata": {},
   "outputs": [],
   "source": [
    "import numpy as np\n",
    "import pandas as pd\n",
    "import matplotlib.mlab as mlab\n",
    "import matplotlib.pyplot as plt\n",
    "import json\n",
    "import pylab\n",
    "df = pd.read_json(\"NEW1.json\")"
   ]
  },
  {
   "cell_type": "code",
   "execution_count": 116,
   "metadata": {},
   "outputs": [
    {
     "data": {
      "text/html": [
       "<div>\n",
       "<style scoped>\n",
       "    .dataframe tbody tr th:only-of-type {\n",
       "        vertical-align: middle;\n",
       "    }\n",
       "\n",
       "    .dataframe tbody tr th {\n",
       "        vertical-align: top;\n",
       "    }\n",
       "\n",
       "    .dataframe thead th {\n",
       "        text-align: right;\n",
       "    }\n",
       "</style>\n",
       "<table border=\"1\" class=\"dataframe\">\n",
       "  <thead>\n",
       "    <tr style=\"text-align: right;\">\n",
       "      <th></th>\n",
       "      <th>accountId</th>\n",
       "      <th>gameId</th>\n",
       "      <th>champion</th>\n",
       "      <th>queue</th>\n",
       "      <th>role</th>\n",
       "      <th>lane</th>\n",
       "    </tr>\n",
       "  </thead>\n",
       "  <tbody>\n",
       "    <tr>\n",
       "      <th>0</th>\n",
       "      <td>32IMRWEYLQmSJQU1yghWuO9DxJqhnLNzDDzj_Zi1Lz4un6s</td>\n",
       "      <td>3308031084</td>\n",
       "      <td>54</td>\n",
       "      <td>400</td>\n",
       "      <td>DUO_SUPPORT</td>\n",
       "      <td>NONE</td>\n",
       "    </tr>\n",
       "    <tr>\n",
       "      <th>1</th>\n",
       "      <td>32IMRWEYLQmSJQU1yghWuO9DxJqhnLNzDDzj_Zi1Lz4un6s</td>\n",
       "      <td>3308000913</td>\n",
       "      <td>11</td>\n",
       "      <td>400</td>\n",
       "      <td>NONE</td>\n",
       "      <td>JUNGLE</td>\n",
       "    </tr>\n",
       "    <tr>\n",
       "      <th>2</th>\n",
       "      <td>32IMRWEYLQmSJQU1yghWuO9DxJqhnLNzDDzj_Zi1Lz4un6s</td>\n",
       "      <td>3307948985</td>\n",
       "      <td>11</td>\n",
       "      <td>400</td>\n",
       "      <td>NONE</td>\n",
       "      <td>JUNGLE</td>\n",
       "    </tr>\n",
       "    <tr>\n",
       "      <th>3</th>\n",
       "      <td>32IMRWEYLQmSJQU1yghWuO9DxJqhnLNzDDzj_Zi1Lz4un6s</td>\n",
       "      <td>3307945900</td>\n",
       "      <td>86</td>\n",
       "      <td>440</td>\n",
       "      <td>DUO</td>\n",
       "      <td>TOP</td>\n",
       "    </tr>\n",
       "    <tr>\n",
       "      <th>4</th>\n",
       "      <td>32IMRWEYLQmSJQU1yghWuO9DxJqhnLNzDDzj_Zi1Lz4un6s</td>\n",
       "      <td>3307953104</td>\n",
       "      <td>103</td>\n",
       "      <td>440</td>\n",
       "      <td>SOLO</td>\n",
       "      <td>MID</td>\n",
       "    </tr>\n",
       "    <tr>\n",
       "      <th>...</th>\n",
       "      <td>...</td>\n",
       "      <td>...</td>\n",
       "      <td>...</td>\n",
       "      <td>...</td>\n",
       "      <td>...</td>\n",
       "      <td>...</td>\n",
       "    </tr>\n",
       "    <tr>\n",
       "      <th>30678</th>\n",
       "      <td>J_PsYmqHjLBj3DcsBk5Rcbz0UQu937CihR84yjOo5w5-pC...</td>\n",
       "      <td>3294280112</td>\n",
       "      <td>67</td>\n",
       "      <td>420</td>\n",
       "      <td>SOLO</td>\n",
       "      <td>TOP</td>\n",
       "    </tr>\n",
       "    <tr>\n",
       "      <th>30679</th>\n",
       "      <td>J_PsYmqHjLBj3DcsBk5Rcbz0UQu937CihR84yjOo5w5-pC...</td>\n",
       "      <td>3294108831</td>\n",
       "      <td>245</td>\n",
       "      <td>420</td>\n",
       "      <td>NONE</td>\n",
       "      <td>JUNGLE</td>\n",
       "    </tr>\n",
       "    <tr>\n",
       "      <th>30680</th>\n",
       "      <td>J_PsYmqHjLBj3DcsBk5Rcbz0UQu937CihR84yjOo5w5-pC...</td>\n",
       "      <td>3294126729</td>\n",
       "      <td>67</td>\n",
       "      <td>420</td>\n",
       "      <td>SOLO</td>\n",
       "      <td>TOP</td>\n",
       "    </tr>\n",
       "    <tr>\n",
       "      <th>30681</th>\n",
       "      <td>J_PsYmqHjLBj3DcsBk5Rcbz0UQu937CihR84yjOo5w5-pC...</td>\n",
       "      <td>3293678396</td>\n",
       "      <td>63</td>\n",
       "      <td>420</td>\n",
       "      <td>DUO_SUPPORT</td>\n",
       "      <td>BOTTOM</td>\n",
       "    </tr>\n",
       "    <tr>\n",
       "      <th>30682</th>\n",
       "      <td>J_PsYmqHjLBj3DcsBk5Rcbz0UQu937CihR84yjOo5w5-pC...</td>\n",
       "      <td>3293639195</td>\n",
       "      <td>54</td>\n",
       "      <td>420</td>\n",
       "      <td>SOLO</td>\n",
       "      <td>TOP</td>\n",
       "    </tr>\n",
       "  </tbody>\n",
       "</table>\n",
       "<p>30683 rows × 6 columns</p>\n",
       "</div>"
      ],
      "text/plain": [
       "                                               accountId      gameId champion  \\\n",
       "0        32IMRWEYLQmSJQU1yghWuO9DxJqhnLNzDDzj_Zi1Lz4un6s  3308031084       54   \n",
       "1        32IMRWEYLQmSJQU1yghWuO9DxJqhnLNzDDzj_Zi1Lz4un6s  3308000913       11   \n",
       "2        32IMRWEYLQmSJQU1yghWuO9DxJqhnLNzDDzj_Zi1Lz4un6s  3307948985       11   \n",
       "3        32IMRWEYLQmSJQU1yghWuO9DxJqhnLNzDDzj_Zi1Lz4un6s  3307945900       86   \n",
       "4        32IMRWEYLQmSJQU1yghWuO9DxJqhnLNzDDzj_Zi1Lz4un6s  3307953104      103   \n",
       "...                                                  ...         ...      ...   \n",
       "30678  J_PsYmqHjLBj3DcsBk5Rcbz0UQu937CihR84yjOo5w5-pC...  3294280112       67   \n",
       "30679  J_PsYmqHjLBj3DcsBk5Rcbz0UQu937CihR84yjOo5w5-pC...  3294108831      245   \n",
       "30680  J_PsYmqHjLBj3DcsBk5Rcbz0UQu937CihR84yjOo5w5-pC...  3294126729       67   \n",
       "30681  J_PsYmqHjLBj3DcsBk5Rcbz0UQu937CihR84yjOo5w5-pC...  3293678396       63   \n",
       "30682  J_PsYmqHjLBj3DcsBk5Rcbz0UQu937CihR84yjOo5w5-pC...  3293639195       54   \n",
       "\n",
       "      queue         role    lane  \n",
       "0       400  DUO_SUPPORT    NONE  \n",
       "1       400         NONE  JUNGLE  \n",
       "2       400         NONE  JUNGLE  \n",
       "3       440          DUO     TOP  \n",
       "4       440         SOLO     MID  \n",
       "...     ...          ...     ...  \n",
       "30678   420         SOLO     TOP  \n",
       "30679   420         NONE  JUNGLE  \n",
       "30680   420         SOLO     TOP  \n",
       "30681   420  DUO_SUPPORT  BOTTOM  \n",
       "30682   420         SOLO     TOP  \n",
       "\n",
       "[30683 rows x 6 columns]"
      ]
     },
     "execution_count": 116,
     "metadata": {},
     "output_type": "execute_result"
    }
   ],
   "source": [
    "df2 = pd.DataFrame(columns=['accountId', 'gameId', 'champion', 'queue', 'role', 'lane']) #Loading in all the data for player matches.\n",
    "for x in df['matches']:\n",
    "    for y in x['matches']:\n",
    "        df2 = df2.append({'accountId' : x['id'], 'gameId' : y['gameId'], 'champion' : y['champion'], 'queue' : y['queue'], 'role' : y['role'], 'lane' : y['lane']}, ignore_index=True)\n",
    "df2"
   ]
  },
  {
   "cell_type": "markdown",
   "metadata": {},
   "source": [
    "I didn't add platformId becasue they are all going to be 'NA', season because they are all going to be '13', and timestamp because it is irrelevant."
   ]
  },
  {
   "cell_type": "code",
   "execution_count": 196,
   "metadata": {},
   "outputs": [
    {
     "data": {
      "text/html": [
       "<div>\n",
       "<style scoped>\n",
       "    .dataframe tbody tr th:only-of-type {\n",
       "        vertical-align: middle;\n",
       "    }\n",
       "\n",
       "    .dataframe tbody tr th {\n",
       "        vertical-align: top;\n",
       "    }\n",
       "\n",
       "    .dataframe thead th {\n",
       "        text-align: right;\n",
       "    }\n",
       "</style>\n",
       "<table border=\"1\" class=\"dataframe\">\n",
       "  <thead>\n",
       "    <tr style=\"text-align: right;\">\n",
       "      <th></th>\n",
       "      <th>accountId</th>\n",
       "      <th>gameId</th>\n",
       "      <th>champion</th>\n",
       "      <th>queue</th>\n",
       "      <th>role</th>\n",
       "      <th>lane</th>\n",
       "    </tr>\n",
       "  </thead>\n",
       "  <tbody>\n",
       "    <tr>\n",
       "      <th>3</th>\n",
       "      <td>32IMRWEYLQmSJQU1yghWuO9DxJqhnLNzDDzj_Zi1Lz4un6s</td>\n",
       "      <td>3307945900</td>\n",
       "      <td>86</td>\n",
       "      <td>440</td>\n",
       "      <td>DUO</td>\n",
       "      <td>TOP</td>\n",
       "    </tr>\n",
       "    <tr>\n",
       "      <th>4</th>\n",
       "      <td>32IMRWEYLQmSJQU1yghWuO9DxJqhnLNzDDzj_Zi1Lz4un6s</td>\n",
       "      <td>3307953104</td>\n",
       "      <td>103</td>\n",
       "      <td>440</td>\n",
       "      <td>SOLO</td>\n",
       "      <td>MID</td>\n",
       "    </tr>\n",
       "    <tr>\n",
       "      <th>5</th>\n",
       "      <td>32IMRWEYLQmSJQU1yghWuO9DxJqhnLNzDDzj_Zi1Lz4un6s</td>\n",
       "      <td>3307390165</td>\n",
       "      <td>875</td>\n",
       "      <td>400</td>\n",
       "      <td>SOLO</td>\n",
       "      <td>TOP</td>\n",
       "    </tr>\n",
       "    <tr>\n",
       "      <th>6</th>\n",
       "      <td>32IMRWEYLQmSJQU1yghWuO9DxJqhnLNzDDzj_Zi1Lz4un6s</td>\n",
       "      <td>3304803027</td>\n",
       "      <td>875</td>\n",
       "      <td>700</td>\n",
       "      <td>SOLO</td>\n",
       "      <td>TOP</td>\n",
       "    </tr>\n",
       "    <tr>\n",
       "      <th>7</th>\n",
       "      <td>32IMRWEYLQmSJQU1yghWuO9DxJqhnLNzDDzj_Zi1Lz4un6s</td>\n",
       "      <td>3304763662</td>\n",
       "      <td>82</td>\n",
       "      <td>700</td>\n",
       "      <td>DUO</td>\n",
       "      <td>BOTTOM</td>\n",
       "    </tr>\n",
       "    <tr>\n",
       "      <th>...</th>\n",
       "      <td>...</td>\n",
       "      <td>...</td>\n",
       "      <td>...</td>\n",
       "      <td>...</td>\n",
       "      <td>...</td>\n",
       "      <td>...</td>\n",
       "    </tr>\n",
       "    <tr>\n",
       "      <th>30677</th>\n",
       "      <td>J_PsYmqHjLBj3DcsBk5Rcbz0UQu937CihR84yjOo5w5-pC...</td>\n",
       "      <td>3294252338</td>\n",
       "      <td>67</td>\n",
       "      <td>420</td>\n",
       "      <td>SOLO</td>\n",
       "      <td>TOP</td>\n",
       "    </tr>\n",
       "    <tr>\n",
       "      <th>30678</th>\n",
       "      <td>J_PsYmqHjLBj3DcsBk5Rcbz0UQu937CihR84yjOo5w5-pC...</td>\n",
       "      <td>3294280112</td>\n",
       "      <td>67</td>\n",
       "      <td>420</td>\n",
       "      <td>SOLO</td>\n",
       "      <td>TOP</td>\n",
       "    </tr>\n",
       "    <tr>\n",
       "      <th>30680</th>\n",
       "      <td>J_PsYmqHjLBj3DcsBk5Rcbz0UQu937CihR84yjOo5w5-pC...</td>\n",
       "      <td>3294126729</td>\n",
       "      <td>67</td>\n",
       "      <td>420</td>\n",
       "      <td>SOLO</td>\n",
       "      <td>TOP</td>\n",
       "    </tr>\n",
       "    <tr>\n",
       "      <th>30681</th>\n",
       "      <td>J_PsYmqHjLBj3DcsBk5Rcbz0UQu937CihR84yjOo5w5-pC...</td>\n",
       "      <td>3293678396</td>\n",
       "      <td>63</td>\n",
       "      <td>420</td>\n",
       "      <td>DUO_SUPPORT</td>\n",
       "      <td>BOTTOM</td>\n",
       "    </tr>\n",
       "    <tr>\n",
       "      <th>30682</th>\n",
       "      <td>J_PsYmqHjLBj3DcsBk5Rcbz0UQu937CihR84yjOo5w5-pC...</td>\n",
       "      <td>3293639195</td>\n",
       "      <td>54</td>\n",
       "      <td>420</td>\n",
       "      <td>SOLO</td>\n",
       "      <td>TOP</td>\n",
       "    </tr>\n",
       "  </tbody>\n",
       "</table>\n",
       "<p>18767 rows × 6 columns</p>\n",
       "</div>"
      ],
      "text/plain": [
       "                                               accountId      gameId champion  \\\n",
       "3        32IMRWEYLQmSJQU1yghWuO9DxJqhnLNzDDzj_Zi1Lz4un6s  3307945900       86   \n",
       "4        32IMRWEYLQmSJQU1yghWuO9DxJqhnLNzDDzj_Zi1Lz4un6s  3307953104      103   \n",
       "5        32IMRWEYLQmSJQU1yghWuO9DxJqhnLNzDDzj_Zi1Lz4un6s  3307390165      875   \n",
       "6        32IMRWEYLQmSJQU1yghWuO9DxJqhnLNzDDzj_Zi1Lz4un6s  3304803027      875   \n",
       "7        32IMRWEYLQmSJQU1yghWuO9DxJqhnLNzDDzj_Zi1Lz4un6s  3304763662       82   \n",
       "...                                                  ...         ...      ...   \n",
       "30677  J_PsYmqHjLBj3DcsBk5Rcbz0UQu937CihR84yjOo5w5-pC...  3294252338       67   \n",
       "30678  J_PsYmqHjLBj3DcsBk5Rcbz0UQu937CihR84yjOo5w5-pC...  3294280112       67   \n",
       "30680  J_PsYmqHjLBj3DcsBk5Rcbz0UQu937CihR84yjOo5w5-pC...  3294126729       67   \n",
       "30681  J_PsYmqHjLBj3DcsBk5Rcbz0UQu937CihR84yjOo5w5-pC...  3293678396       63   \n",
       "30682  J_PsYmqHjLBj3DcsBk5Rcbz0UQu937CihR84yjOo5w5-pC...  3293639195       54   \n",
       "\n",
       "      queue         role    lane  \n",
       "3       440          DUO     TOP  \n",
       "4       440         SOLO     MID  \n",
       "5       400         SOLO     TOP  \n",
       "6       700         SOLO     TOP  \n",
       "7       700          DUO  BOTTOM  \n",
       "...     ...          ...     ...  \n",
       "30677   420         SOLO     TOP  \n",
       "30678   420         SOLO     TOP  \n",
       "30680   420         SOLO     TOP  \n",
       "30681   420  DUO_SUPPORT  BOTTOM  \n",
       "30682   420         SOLO     TOP  \n",
       "\n",
       "[18767 rows x 6 columns]"
      ]
     },
     "execution_count": 196,
     "metadata": {},
     "output_type": "execute_result"
    }
   ],
   "source": [
    "df2 = df2[df2['role'] != 'NONE']\n",
    "df2 = df2[df2['lane'] != 'NONE']\n",
    "df2"
   ]
  },
  {
   "cell_type": "markdown",
   "metadata": {},
   "source": [
    "I removed empty data. When lane is 'jungle' role is 'none', but sometimes when the lane was not jungle, role was still 'none' so I just removed the jungle lane as well. Looking at top, mid, and bottom is good enough."
   ]
  },
  {
   "cell_type": "code",
   "execution_count": 197,
   "metadata": {},
   "outputs": [
    {
     "data": {
      "text/plain": [
       "champion\n",
       "1       75\n",
       "2       27\n",
       "3       49\n",
       "4       74\n",
       "5       17\n",
       "      ... \n",
       "517    220\n",
       "518    113\n",
       "523    275\n",
       "555    221\n",
       "875    393\n",
       "Name: queue, Length: 148, dtype: int64"
      ]
     },
     "execution_count": 197,
     "metadata": {},
     "output_type": "execute_result"
    }
   ],
   "source": [
    "histData = df2.groupby(\"champion\")['queue'].count()\n",
    "histData"
   ]
  },
  {
   "cell_type": "code",
   "execution_count": 200,
   "metadata": {},
   "outputs": [
    {
     "data": {
      "image/png": "[encoded data removed]",
      "text/plain": [
       "<Figure size 432x288 with 1 Axes>"
      ]
     },
     "metadata": {
      "needs_background": "light"
     },
     "output_type": "display_data"
    }
   ],
   "source": [
    "count = df2.champion.nunique()\n",
    "first_digits = df2.champion\n",
    "first_digits = first_digits.sort_values()\n",
    "pylab.hist(first_digits, bins = 875)\n",
    "pylab.title(\"Champion ID vs. Frequency\")\n",
    "pylab.xlabel(\"Champion ID\")\n",
    "pylab.ylabel(\"Frequency\")\n",
    "pylab.show()"
   ]
  },
  {
   "cell_type": "markdown",
   "metadata": {},
   "source": [
    "As seen by the histrogram above, There are about 4 champions that get played significantly more than others and another 7 that get played more than even those. This results from certain champions being stronger on different patches so some champions are going to be picked more because they are just better."
   ]
  },
  {
   "cell_type": "code",
   "execution_count": 199,
   "metadata": {},
   "outputs": [
    {
     "data": {
      "image/png": "[encoded data removed]",
      "text/plain": [
       "<Figure size 432x288 with 1 Axes>"
      ]
     },
     "metadata": {
      "needs_background": "light"
     },
     "output_type": "display_data"
    }
   ],
   "source": [
    "histData = df2.groupby(\"lane\")['queue'].count()\n",
    "count = df2.champion.nunique()\n",
    "first_digits = df2.lane\n",
    "first_digits = first_digits.sort_values()\n",
    "pylab.hist(first_digits, bins = 5)\n",
    "pylab.title(\"Champion ID vs. Frequency\")\n",
    "pylab.xlabel(\"Champion ID\")\n",
    "pylab.ylabel(\"Frequency\")\n",
    "pylab.show()"
   ]
  },
  {
   "cell_type": "markdown",
   "metadata": {},
   "source": [
    "Bottom may seem to have more play rate than mid and top, but that is because it includes both support and ADC, which are both roles that are in the bottom lane. This means that Mid and Top most likely have a greater frequency, but it cannot be shown in this graph."
   ]
  },
  {
   "cell_type": "code",
   "execution_count": 63,
   "metadata": {},
   "outputs": [],
   "source": [
    "df3 = pd.read_json(\"back2.json\")"
   ]
  },
  {
   "cell_type": "code",
   "execution_count": 64,
   "metadata": {},
   "outputs": [
    {
     "data": {
      "text/html": [
       "<div>\n",
       "<style scoped>\n",
       "    .dataframe tbody tr th:only-of-type {\n",
       "        vertical-align: middle;\n",
       "    }\n",
       "\n",
       "    .dataframe tbody tr th {\n",
       "        vertical-align: top;\n",
       "    }\n",
       "\n",
       "    .dataframe thead th {\n",
       "        text-align: right;\n",
       "    }\n",
       "</style>\n",
       "<table border=\"1\" class=\"dataframe\">\n",
       "  <thead>\n",
       "    <tr style=\"text-align: right;\">\n",
       "      <th></th>\n",
       "      <th>data</th>\n",
       "    </tr>\n",
       "  </thead>\n",
       "  <tbody>\n",
       "    <tr>\n",
       "      <th>0</th>\n",
       "      <td>{'frames': [{'participantFrames': {'1': {'part...</td>\n",
       "    </tr>\n",
       "    <tr>\n",
       "      <th>1</th>\n",
       "      <td>{'frames': [{'participantFrames': {'1': {'part...</td>\n",
       "    </tr>\n",
       "    <tr>\n",
       "      <th>2</th>\n",
       "      <td>{'frames': [{'participantFrames': {'1': {'part...</td>\n",
       "    </tr>\n",
       "    <tr>\n",
       "      <th>3</th>\n",
       "      <td>{'frames': [{'participantFrames': {'1': {'part...</td>\n",
       "    </tr>\n",
       "    <tr>\n",
       "      <th>4</th>\n",
       "      <td>{'frames': [{'participantFrames': {'1': {'part...</td>\n",
       "    </tr>\n",
       "    <tr>\n",
       "      <th>...</th>\n",
       "      <td>...</td>\n",
       "    </tr>\n",
       "    <tr>\n",
       "      <th>993</th>\n",
       "      <td>{'frames': [{'participantFrames': {'1': {'part...</td>\n",
       "    </tr>\n",
       "    <tr>\n",
       "      <th>994</th>\n",
       "      <td>{'frames': [{'participantFrames': {'1': {'part...</td>\n",
       "    </tr>\n",
       "    <tr>\n",
       "      <th>995</th>\n",
       "      <td>{'frames': [{'participantFrames': {'1': {'part...</td>\n",
       "    </tr>\n",
       "    <tr>\n",
       "      <th>996</th>\n",
       "      <td>{'frames': [{'participantFrames': {'1': {'part...</td>\n",
       "    </tr>\n",
       "    <tr>\n",
       "      <th>997</th>\n",
       "      <td>{'frames': [{'participantFrames': {'1': {'part...</td>\n",
       "    </tr>\n",
       "  </tbody>\n",
       "</table>\n",
       "<p>998 rows × 1 columns</p>\n",
       "</div>"
      ],
      "text/plain": [
       "                                                  data\n",
       "0    {'frames': [{'participantFrames': {'1': {'part...\n",
       "1    {'frames': [{'participantFrames': {'1': {'part...\n",
       "2    {'frames': [{'participantFrames': {'1': {'part...\n",
       "3    {'frames': [{'participantFrames': {'1': {'part...\n",
       "4    {'frames': [{'participantFrames': {'1': {'part...\n",
       "..                                                 ...\n",
       "993  {'frames': [{'participantFrames': {'1': {'part...\n",
       "994  {'frames': [{'participantFrames': {'1': {'part...\n",
       "995  {'frames': [{'participantFrames': {'1': {'part...\n",
       "996  {'frames': [{'participantFrames': {'1': {'part...\n",
       "997  {'frames': [{'participantFrames': {'1': {'part...\n",
       "\n",
       "[998 rows x 1 columns]"
      ]
     },
     "execution_count": 64,
     "metadata": {},
     "output_type": "execute_result"
    }
   ],
   "source": [
    "df3"
   ]
  },
  {
   "cell_type": "code",
   "execution_count": 65,
   "metadata": {},
   "outputs": [
    {
     "data": {
      "text/plain": [
       "{'participantId': 5,\n",
       " 'position': {'x': 560, 'y': 581},\n",
       " 'currentGold': 500,\n",
       " 'totalGold': 500,\n",
       " 'level': 1,\n",
       " 'xp': 0,\n",
       " 'minionsKilled': 0,\n",
       " 'jungleMinionsKilled': 0,\n",
       " 'dominionScore': 0,\n",
       " 'teamScore': 0}"
      ]
     },
     "execution_count": 65,
     "metadata": {},
     "output_type": "execute_result"
    }
   ],
   "source": [
    "df3['data'][0]['frames'][0]['participantFrames']['1']"
   ]
  },
  {
   "cell_type": "code",
   "execution_count": null,
   "metadata": {},
   "outputs": [],
   "source": [
    "df4 = pd.DataFrame(columns=['dataId', 'frameNo', 'participantId', 'currentGold', 'totalGold', 'level', 'xp', 'minionsKilled', 'jungleMinionsKilled'])\n",
    "did = 0\n",
    "fid = 0\n",
    "for a in df3['data']:\n",
    "    print(did)\n",
    "    did = did + 1\n",
    "    fid = 0\n",
    "    for b in a['frames']:\n",
    "        fid = fid + 1\n",
    "        for c in b['participantFrames']:\n",
    "            df4 = df4.append({'dataId' : did, 'frameNo' : fid, 'participantId' : b['participantFrames'][c]['participantId'], 'currentGold' : b['participantFrames'][c]['currentGold'], 'totalGold' : b['participantFrames'][c]['totalGold'], 'level' : b['participantFrames'][c]['level'], 'xp' : b['participantFrames'][c]['xp'], 'minionsKilled' : b['participantFrames'][c]['minionsKilled'], 'jungleMinionsKilled' : b['participantFrames'][c]['jungleMinionsKilled']}, ignore_index=True)"
   ]
  },
  {
   "cell_type": "code",
   "execution_count": 71,
   "metadata": {},
   "outputs": [
    {
     "data": {
      "text/html": [
       "<div>\n",
       "<style scoped>\n",
       "    .dataframe tbody tr th:only-of-type {\n",
       "        vertical-align: middle;\n",
       "    }\n",
       "\n",
       "    .dataframe tbody tr th {\n",
       "        vertical-align: top;\n",
       "    }\n",
       "\n",
       "    .dataframe thead th {\n",
       "        text-align: right;\n",
       "    }\n",
       "</style>\n",
       "<table border=\"1\" class=\"dataframe\">\n",
       "  <thead>\n",
       "    <tr style=\"text-align: right;\">\n",
       "      <th></th>\n",
       "      <th>dataId</th>\n",
       "      <th>frameNo</th>\n",
       "      <th>participantId</th>\n",
       "      <th>currentGold</th>\n",
       "      <th>totalGold</th>\n",
       "      <th>level</th>\n",
       "      <th>xp</th>\n",
       "      <th>minionsKilled</th>\n",
       "      <th>jungleMinionsKilled</th>\n",
       "    </tr>\n",
       "  </thead>\n",
       "  <tbody>\n",
       "    <tr>\n",
       "      <th>0</th>\n",
       "      <td>1</td>\n",
       "      <td>1</td>\n",
       "      <td>5</td>\n",
       "      <td>500</td>\n",
       "      <td>500</td>\n",
       "      <td>1</td>\n",
       "      <td>0</td>\n",
       "      <td>0</td>\n",
       "      <td>0</td>\n",
       "    </tr>\n",
       "    <tr>\n",
       "      <th>1</th>\n",
       "      <td>1</td>\n",
       "      <td>1</td>\n",
       "      <td>3</td>\n",
       "      <td>500</td>\n",
       "      <td>500</td>\n",
       "      <td>1</td>\n",
       "      <td>0</td>\n",
       "      <td>0</td>\n",
       "      <td>0</td>\n",
       "    </tr>\n",
       "    <tr>\n",
       "      <th>2</th>\n",
       "      <td>1</td>\n",
       "      <td>1</td>\n",
       "      <td>1</td>\n",
       "      <td>500</td>\n",
       "      <td>500</td>\n",
       "      <td>1</td>\n",
       "      <td>0</td>\n",
       "      <td>0</td>\n",
       "      <td>0</td>\n",
       "    </tr>\n",
       "    <tr>\n",
       "      <th>3</th>\n",
       "      <td>1</td>\n",
       "      <td>1</td>\n",
       "      <td>4</td>\n",
       "      <td>500</td>\n",
       "      <td>500</td>\n",
       "      <td>1</td>\n",
       "      <td>0</td>\n",
       "      <td>0</td>\n",
       "      <td>0</td>\n",
       "    </tr>\n",
       "    <tr>\n",
       "      <th>4</th>\n",
       "      <td>1</td>\n",
       "      <td>1</td>\n",
       "      <td>2</td>\n",
       "      <td>500</td>\n",
       "      <td>500</td>\n",
       "      <td>1</td>\n",
       "      <td>0</td>\n",
       "      <td>0</td>\n",
       "      <td>0</td>\n",
       "    </tr>\n",
       "    <tr>\n",
       "      <th>...</th>\n",
       "      <td>...</td>\n",
       "      <td>...</td>\n",
       "      <td>...</td>\n",
       "      <td>...</td>\n",
       "      <td>...</td>\n",
       "      <td>...</td>\n",
       "      <td>...</td>\n",
       "      <td>...</td>\n",
       "      <td>...</td>\n",
       "    </tr>\n",
       "    <tr>\n",
       "      <th>271765</th>\n",
       "      <td>998</td>\n",
       "      <td>31</td>\n",
       "      <td>9</td>\n",
       "      <td>742</td>\n",
       "      <td>13687</td>\n",
       "      <td>15</td>\n",
       "      <td>14359</td>\n",
       "      <td>219</td>\n",
       "      <td>13</td>\n",
       "    </tr>\n",
       "    <tr>\n",
       "      <th>271766</th>\n",
       "      <td>998</td>\n",
       "      <td>31</td>\n",
       "      <td>8</td>\n",
       "      <td>667</td>\n",
       "      <td>14450</td>\n",
       "      <td>15</td>\n",
       "      <td>13584</td>\n",
       "      <td>52</td>\n",
       "      <td>153</td>\n",
       "    </tr>\n",
       "    <tr>\n",
       "      <th>271767</th>\n",
       "      <td>998</td>\n",
       "      <td>31</td>\n",
       "      <td>6</td>\n",
       "      <td>1540</td>\n",
       "      <td>10250</td>\n",
       "      <td>15</td>\n",
       "      <td>13072</td>\n",
       "      <td>156</td>\n",
       "      <td>8</td>\n",
       "    </tr>\n",
       "    <tr>\n",
       "      <th>271768</th>\n",
       "      <td>998</td>\n",
       "      <td>31</td>\n",
       "      <td>10</td>\n",
       "      <td>1265</td>\n",
       "      <td>10015</td>\n",
       "      <td>13</td>\n",
       "      <td>11298</td>\n",
       "      <td>152</td>\n",
       "      <td>23</td>\n",
       "    </tr>\n",
       "    <tr>\n",
       "      <th>271769</th>\n",
       "      <td>998</td>\n",
       "      <td>31</td>\n",
       "      <td>7</td>\n",
       "      <td>992</td>\n",
       "      <td>7267</td>\n",
       "      <td>13</td>\n",
       "      <td>10028</td>\n",
       "      <td>11</td>\n",
       "      <td>0</td>\n",
       "    </tr>\n",
       "  </tbody>\n",
       "</table>\n",
       "<p>271770 rows × 9 columns</p>\n",
       "</div>"
      ],
      "text/plain": [
       "       dataId frameNo participantId currentGold totalGold level     xp  \\\n",
       "0           1       1             5         500       500     1      0   \n",
       "1           1       1             3         500       500     1      0   \n",
       "2           1       1             1         500       500     1      0   \n",
       "3           1       1             4         500       500     1      0   \n",
       "4           1       1             2         500       500     1      0   \n",
       "...       ...     ...           ...         ...       ...   ...    ...   \n",
       "271765    998      31             9         742     13687    15  14359   \n",
       "271766    998      31             8         667     14450    15  13584   \n",
       "271767    998      31             6        1540     10250    15  13072   \n",
       "271768    998      31            10        1265     10015    13  11298   \n",
       "271769    998      31             7         992      7267    13  10028   \n",
       "\n",
       "       minionsKilled jungleMinionsKilled  \n",
       "0                  0                   0  \n",
       "1                  0                   0  \n",
       "2                  0                   0  \n",
       "3                  0                   0  \n",
       "4                  0                   0  \n",
       "...              ...                 ...  \n",
       "271765           219                  13  \n",
       "271766            52                 153  \n",
       "271767           156                   8  \n",
       "271768           152                  23  \n",
       "271769            11                   0  \n",
       "\n",
       "[271770 rows x 9 columns]"
      ]
     },
     "execution_count": 71,
     "metadata": {},
     "output_type": "execute_result"
    }
   ],
   "source": [
    "df4"
   ]
  },
  {
   "cell_type": "code",
   "execution_count": 130,
   "metadata": {},
   "outputs": [
    {
     "data": {
      "image/png": "[encoded data removed]",
      "text/plain": [
       "<Figure size 432x288 with 1 Axes>"
      ]
     },
     "metadata": {
      "needs_background": "light"
     },
     "output_type": "display_data"
    }
   ],
   "source": [
    "fig=plt.figure()\n",
    "plt.scatter(df4.xp, df4.totalGold)\n",
    "axis = fig.gca() #get current axis\n",
    "axis.set_title('XP vs Gold')\n",
    "axis.set_xlabel('XP')\n",
    "axis.set_ylabel('Gold')\n",
    "fig.canvas.draw()"
   ]
  },
  {
   "cell_type": "markdown",
   "metadata": {},
   "source": [
    "As seen in the graph above, as the amount of xp increases the amount the gold increases and it is mostly linear. This makes sense because as the game goes on you will gain xp and your gold will increase because you get passive gold and by killing minions, monsters, objectives, or champions.\n",
    "The begining however has a rectangle at the start. I believe that is because of people who \"AFK\" which essentially means they have internet problems and can't load into the game, left the game on purpose, or can't load in for a reason out of their control. This means they will gain the passive\n",
    "gold the game gives them but will not recieve any experience because they are not near anayhting that is dying whether it be minions, monsters, or creeps."
   ]
  },
  {
   "cell_type": "code",
   "execution_count": 202,
   "metadata": {},
   "outputs": [
    {
     "data": {
      "image/png": "[encoded data removed]",
      "text/plain": [
       "<Figure size 432x288 with 1 Axes>"
      ]
     },
     "metadata": {
      "needs_background": "light"
     },
     "output_type": "display_data"
    }
   ],
   "source": [
    "fig=plt.figure()\n",
    "plt.scatter(df4.minionsKilled, df4.totalGold)\n",
    "axis = fig.gca() #get current axis\n",
    "axis.set_title('Minions Killed vs Gold')\n",
    "axis.set_xlabel('Minions Killed')\n",
    "axis.set_ylabel('Gold')\n",
    "fig.canvas.draw()"
   ]
  },
  {
   "cell_type": "markdown",
   "metadata": {},
   "source": [
    "This graph, as compared to the last graph, is mless linear. This is because you need to farm minions to get gold which makes sense that when the minions killed columns goes up then the gold amount goes up. However, it is not linear because killing enemy champions and objectives do not show up in the minions killed score, so it isn't linear. The graph more or less shows that the most kills happen around the 100-150 minions killed mark which makes sense becuase this is around the time \"laning phase\" ends in a game and the players' focus changes from killing minions to get gold and xp to fighting enemy chammpions for control over objectives and the map. Less experienced players will start to kill less minions during this time and that is why the gold goes high in this timeframe. Going into graphing this data I thought it would still be linear even with champion kills, but it does make sense that it is not because of the reasons described."
   ]
  },
  {
   "cell_type": "code",
   "execution_count": 131,
   "metadata": {},
   "outputs": [],
   "source": [
    "df5 = pd.read_json(\"NEW3.json\")"
   ]
  },
  {
   "cell_type": "code",
   "execution_count": 132,
   "metadata": {},
   "outputs": [
    {
     "data": {
      "text/html": [
       "<div>\n",
       "<style scoped>\n",
       "    .dataframe tbody tr th:only-of-type {\n",
       "        vertical-align: middle;\n",
       "    }\n",
       "\n",
       "    .dataframe tbody tr th {\n",
       "        vertical-align: top;\n",
       "    }\n",
       "\n",
       "    .dataframe thead th {\n",
       "        text-align: right;\n",
       "    }\n",
       "</style>\n",
       "<table border=\"1\" class=\"dataframe\">\n",
       "  <thead>\n",
       "    <tr style=\"text-align: right;\">\n",
       "      <th></th>\n",
       "      <th>data</th>\n",
       "    </tr>\n",
       "  </thead>\n",
       "  <tbody>\n",
       "    <tr>\n",
       "      <th>0</th>\n",
       "      <td>[{'championId': 67, 'championLevel': 7, 'champ...</td>\n",
       "    </tr>\n",
       "    <tr>\n",
       "      <th>1</th>\n",
       "      <td>[{'championId': 157, 'championLevel': 7, 'cham...</td>\n",
       "    </tr>\n",
       "    <tr>\n",
       "      <th>2</th>\n",
       "      <td>[{'championId': 64, 'championLevel': 7, 'champ...</td>\n",
       "    </tr>\n",
       "    <tr>\n",
       "      <th>3</th>\n",
       "      <td>[{'championId': 236, 'championLevel': 7, 'cham...</td>\n",
       "    </tr>\n",
       "    <tr>\n",
       "      <th>4</th>\n",
       "      <td>[{'championId': 161, 'championLevel': 7, 'cham...</td>\n",
       "    </tr>\n",
       "    <tr>\n",
       "      <th>...</th>\n",
       "      <td>...</td>\n",
       "    </tr>\n",
       "    <tr>\n",
       "      <th>1653</th>\n",
       "      <td>[{'championId': 63, 'championLevel': 7, 'champ...</td>\n",
       "    </tr>\n",
       "    <tr>\n",
       "      <th>1654</th>\n",
       "      <td>[{'championId': 498, 'championLevel': 7, 'cham...</td>\n",
       "    </tr>\n",
       "    <tr>\n",
       "      <th>1655</th>\n",
       "      <td>[{'championId': 37, 'championLevel': 7, 'champ...</td>\n",
       "    </tr>\n",
       "    <tr>\n",
       "      <th>1656</th>\n",
       "      <td>[{'championId': 35, 'championLevel': 6, 'champ...</td>\n",
       "    </tr>\n",
       "    <tr>\n",
       "      <th>1657</th>\n",
       "      <td>[{'championId': 245, 'championLevel': 3, 'cham...</td>\n",
       "    </tr>\n",
       "  </tbody>\n",
       "</table>\n",
       "<p>1658 rows × 1 columns</p>\n",
       "</div>"
      ],
      "text/plain": [
       "                                                   data\n",
       "0     [{'championId': 67, 'championLevel': 7, 'champ...\n",
       "1     [{'championId': 157, 'championLevel': 7, 'cham...\n",
       "2     [{'championId': 64, 'championLevel': 7, 'champ...\n",
       "3     [{'championId': 236, 'championLevel': 7, 'cham...\n",
       "4     [{'championId': 161, 'championLevel': 7, 'cham...\n",
       "...                                                 ...\n",
       "1653  [{'championId': 63, 'championLevel': 7, 'champ...\n",
       "1654  [{'championId': 498, 'championLevel': 7, 'cham...\n",
       "1655  [{'championId': 37, 'championLevel': 7, 'champ...\n",
       "1656  [{'championId': 35, 'championLevel': 6, 'champ...\n",
       "1657  [{'championId': 245, 'championLevel': 3, 'cham...\n",
       "\n",
       "[1658 rows x 1 columns]"
      ]
     },
     "execution_count": 132,
     "metadata": {},
     "output_type": "execute_result"
    }
   ],
   "source": [
    "df5"
   ]
  },
  {
   "cell_type": "code",
   "execution_count": 134,
   "metadata": {},
   "outputs": [],
   "source": [
    "df6 = pd.DataFrame(columns=['summonerId', 'championId', 'championLevel', 'championPoints'])\n",
    "for j in df5['data']:\n",
    "        for k in j:\n",
    "            df6 = df6.append({'summonerId' : k['summonerId'], 'championId': k['championId'], 'championLevel' : k['championLevel'], 'championPoints' : k['championPoints']}, ignore_index=True)"
   ]
  },
  {
   "cell_type": "markdown",
   "metadata": {},
   "source": [
    "I skip ChampionPointsSinceLastLevel, championPointsUntilNextLevel, chestGranted, and tokensEarned because that information is irrelevant."
   ]
  },
  {
   "cell_type": "code",
   "execution_count": 136,
   "metadata": {},
   "outputs": [
    {
     "data": {
      "text/html": [
       "<div>\n",
       "<style scoped>\n",
       "    .dataframe tbody tr th:only-of-type {\n",
       "        vertical-align: middle;\n",
       "    }\n",
       "\n",
       "    .dataframe tbody tr th {\n",
       "        vertical-align: top;\n",
       "    }\n",
       "\n",
       "    .dataframe thead th {\n",
       "        text-align: right;\n",
       "    }\n",
       "</style>\n",
       "<table border=\"1\" class=\"dataframe\">\n",
       "  <thead>\n",
       "    <tr style=\"text-align: right;\">\n",
       "      <th></th>\n",
       "      <th>summonerId</th>\n",
       "      <th>championId</th>\n",
       "      <th>championLevel</th>\n",
       "      <th>championPoints</th>\n",
       "    </tr>\n",
       "  </thead>\n",
       "  <tbody>\n",
       "    <tr>\n",
       "      <th>0</th>\n",
       "      <td>slM1hw-pMDh5sd1c_DX1xaTrVTDVYx1csPc-WSceT-DDf8s</td>\n",
       "      <td>67</td>\n",
       "      <td>7</td>\n",
       "      <td>978485</td>\n",
       "    </tr>\n",
       "    <tr>\n",
       "      <th>1</th>\n",
       "      <td>slM1hw-pMDh5sd1c_DX1xaTrVTDVYx1csPc-WSceT-DDf8s</td>\n",
       "      <td>81</td>\n",
       "      <td>7</td>\n",
       "      <td>183592</td>\n",
       "    </tr>\n",
       "    <tr>\n",
       "      <th>2</th>\n",
       "      <td>slM1hw-pMDh5sd1c_DX1xaTrVTDVYx1csPc-WSceT-DDf8s</td>\n",
       "      <td>236</td>\n",
       "      <td>7</td>\n",
       "      <td>156228</td>\n",
       "    </tr>\n",
       "    <tr>\n",
       "      <th>3</th>\n",
       "      <td>slM1hw-pMDh5sd1c_DX1xaTrVTDVYx1csPc-WSceT-DDf8s</td>\n",
       "      <td>157</td>\n",
       "      <td>7</td>\n",
       "      <td>125910</td>\n",
       "    </tr>\n",
       "    <tr>\n",
       "      <th>4</th>\n",
       "      <td>slM1hw-pMDh5sd1c_DX1xaTrVTDVYx1csPc-WSceT-DDf8s</td>\n",
       "      <td>238</td>\n",
       "      <td>7</td>\n",
       "      <td>62700</td>\n",
       "    </tr>\n",
       "    <tr>\n",
       "      <th>...</th>\n",
       "      <td>...</td>\n",
       "      <td>...</td>\n",
       "      <td>...</td>\n",
       "      <td>...</td>\n",
       "    </tr>\n",
       "    <tr>\n",
       "      <th>175695</th>\n",
       "      <td>WQuRdhUSoXf_eDA2xh3nnrzVTOauAZ8s42jc-kc6IbNrPlk</td>\n",
       "      <td>11</td>\n",
       "      <td>1</td>\n",
       "      <td>146</td>\n",
       "    </tr>\n",
       "    <tr>\n",
       "      <th>175696</th>\n",
       "      <td>WQuRdhUSoXf_eDA2xh3nnrzVTOauAZ8s42jc-kc6IbNrPlk</td>\n",
       "      <td>142</td>\n",
       "      <td>1</td>\n",
       "      <td>115</td>\n",
       "    </tr>\n",
       "    <tr>\n",
       "      <th>175697</th>\n",
       "      <td>WQuRdhUSoXf_eDA2xh3nnrzVTOauAZ8s42jc-kc6IbNrPlk</td>\n",
       "      <td>85</td>\n",
       "      <td>1</td>\n",
       "      <td>105</td>\n",
       "    </tr>\n",
       "    <tr>\n",
       "      <th>175698</th>\n",
       "      <td>WQuRdhUSoXf_eDA2xh3nnrzVTOauAZ8s42jc-kc6IbNrPlk</td>\n",
       "      <td>91</td>\n",
       "      <td>1</td>\n",
       "      <td>98</td>\n",
       "    </tr>\n",
       "    <tr>\n",
       "      <th>175699</th>\n",
       "      <td>WQuRdhUSoXf_eDA2xh3nnrzVTOauAZ8s42jc-kc6IbNrPlk</td>\n",
       "      <td>555</td>\n",
       "      <td>1</td>\n",
       "      <td>86</td>\n",
       "    </tr>\n",
       "  </tbody>\n",
       "</table>\n",
       "<p>175700 rows × 4 columns</p>\n",
       "</div>"
      ],
      "text/plain": [
       "                                             summonerId championId  \\\n",
       "0       slM1hw-pMDh5sd1c_DX1xaTrVTDVYx1csPc-WSceT-DDf8s         67   \n",
       "1       slM1hw-pMDh5sd1c_DX1xaTrVTDVYx1csPc-WSceT-DDf8s         81   \n",
       "2       slM1hw-pMDh5sd1c_DX1xaTrVTDVYx1csPc-WSceT-DDf8s        236   \n",
       "3       slM1hw-pMDh5sd1c_DX1xaTrVTDVYx1csPc-WSceT-DDf8s        157   \n",
       "4       slM1hw-pMDh5sd1c_DX1xaTrVTDVYx1csPc-WSceT-DDf8s        238   \n",
       "...                                                 ...        ...   \n",
       "175695  WQuRdhUSoXf_eDA2xh3nnrzVTOauAZ8s42jc-kc6IbNrPlk         11   \n",
       "175696  WQuRdhUSoXf_eDA2xh3nnrzVTOauAZ8s42jc-kc6IbNrPlk        142   \n",
       "175697  WQuRdhUSoXf_eDA2xh3nnrzVTOauAZ8s42jc-kc6IbNrPlk         85   \n",
       "175698  WQuRdhUSoXf_eDA2xh3nnrzVTOauAZ8s42jc-kc6IbNrPlk         91   \n",
       "175699  WQuRdhUSoXf_eDA2xh3nnrzVTOauAZ8s42jc-kc6IbNrPlk        555   \n",
       "\n",
       "       championLevel championPoints  \n",
       "0                  7         978485  \n",
       "1                  7         183592  \n",
       "2                  7         156228  \n",
       "3                  7         125910  \n",
       "4                  7          62700  \n",
       "...              ...            ...  \n",
       "175695             1            146  \n",
       "175696             1            115  \n",
       "175697             1            105  \n",
       "175698             1             98  \n",
       "175699             1             86  \n",
       "\n",
       "[175700 rows x 4 columns]"
      ]
     },
     "execution_count": 136,
     "metadata": {},
     "output_type": "execute_result"
    }
   ],
   "source": [
    "df6"
   ]
  },
  {
   "cell_type": "code",
   "execution_count": 137,
   "metadata": {},
   "outputs": [],
   "source": [
    "df6 = df6[df6.championLevel > 4]"
   ]
  },
  {
   "cell_type": "markdown",
   "metadata": {},
   "source": [
    "I got rid of champion masteries less than 5. To get rank 6 or 7 on a champion you have to get S-, S, or S+ grades in game on the champion to level it up."
   ]
  },
  {
   "cell_type": "code",
   "execution_count": 138,
   "metadata": {},
   "outputs": [
    {
     "data": {
      "text/html": [
       "<div>\n",
       "<style scoped>\n",
       "    .dataframe tbody tr th:only-of-type {\n",
       "        vertical-align: middle;\n",
       "    }\n",
       "\n",
       "    .dataframe tbody tr th {\n",
       "        vertical-align: top;\n",
       "    }\n",
       "\n",
       "    .dataframe thead th {\n",
       "        text-align: right;\n",
       "    }\n",
       "</style>\n",
       "<table border=\"1\" class=\"dataframe\">\n",
       "  <thead>\n",
       "    <tr style=\"text-align: right;\">\n",
       "      <th></th>\n",
       "      <th>summonerId</th>\n",
       "      <th>championId</th>\n",
       "      <th>championLevel</th>\n",
       "      <th>championPoints</th>\n",
       "    </tr>\n",
       "  </thead>\n",
       "  <tbody>\n",
       "    <tr>\n",
       "      <th>0</th>\n",
       "      <td>slM1hw-pMDh5sd1c_DX1xaTrVTDVYx1csPc-WSceT-DDf8s</td>\n",
       "      <td>67</td>\n",
       "      <td>7</td>\n",
       "      <td>978485</td>\n",
       "    </tr>\n",
       "    <tr>\n",
       "      <th>1</th>\n",
       "      <td>slM1hw-pMDh5sd1c_DX1xaTrVTDVYx1csPc-WSceT-DDf8s</td>\n",
       "      <td>81</td>\n",
       "      <td>7</td>\n",
       "      <td>183592</td>\n",
       "    </tr>\n",
       "    <tr>\n",
       "      <th>2</th>\n",
       "      <td>slM1hw-pMDh5sd1c_DX1xaTrVTDVYx1csPc-WSceT-DDf8s</td>\n",
       "      <td>236</td>\n",
       "      <td>7</td>\n",
       "      <td>156228</td>\n",
       "    </tr>\n",
       "    <tr>\n",
       "      <th>3</th>\n",
       "      <td>slM1hw-pMDh5sd1c_DX1xaTrVTDVYx1csPc-WSceT-DDf8s</td>\n",
       "      <td>157</td>\n",
       "      <td>7</td>\n",
       "      <td>125910</td>\n",
       "    </tr>\n",
       "    <tr>\n",
       "      <th>4</th>\n",
       "      <td>slM1hw-pMDh5sd1c_DX1xaTrVTDVYx1csPc-WSceT-DDf8s</td>\n",
       "      <td>238</td>\n",
       "      <td>7</td>\n",
       "      <td>62700</td>\n",
       "    </tr>\n",
       "    <tr>\n",
       "      <th>...</th>\n",
       "      <td>...</td>\n",
       "      <td>...</td>\n",
       "      <td>...</td>\n",
       "      <td>...</td>\n",
       "    </tr>\n",
       "    <tr>\n",
       "      <th>175522</th>\n",
       "      <td>Jrr4LfmAQYAfrKbC7nXnsESZQYcO33059BivgdKOIwI1V8k</td>\n",
       "      <td>89</td>\n",
       "      <td>7</td>\n",
       "      <td>66551</td>\n",
       "    </tr>\n",
       "    <tr>\n",
       "      <th>175523</th>\n",
       "      <td>Jrr4LfmAQYAfrKbC7nXnsESZQYcO33059BivgdKOIwI1V8k</td>\n",
       "      <td>17</td>\n",
       "      <td>6</td>\n",
       "      <td>50269</td>\n",
       "    </tr>\n",
       "    <tr>\n",
       "      <th>175524</th>\n",
       "      <td>Jrr4LfmAQYAfrKbC7nXnsESZQYcO33059BivgdKOIwI1V8k</td>\n",
       "      <td>2</td>\n",
       "      <td>5</td>\n",
       "      <td>45565</td>\n",
       "    </tr>\n",
       "    <tr>\n",
       "      <th>175525</th>\n",
       "      <td>Jrr4LfmAQYAfrKbC7nXnsESZQYcO33059BivgdKOIwI1V8k</td>\n",
       "      <td>412</td>\n",
       "      <td>6</td>\n",
       "      <td>32925</td>\n",
       "    </tr>\n",
       "    <tr>\n",
       "      <th>175636</th>\n",
       "      <td>jkIPQPG98NmiVqjEdH4lqrgQeAshwBACB7P2OCAC0d7kdxd-</td>\n",
       "      <td>35</td>\n",
       "      <td>6</td>\n",
       "      <td>43276</td>\n",
       "    </tr>\n",
       "  </tbody>\n",
       "</table>\n",
       "<p>34176 rows × 4 columns</p>\n",
       "</div>"
      ],
      "text/plain": [
       "                                              summonerId championId  \\\n",
       "0        slM1hw-pMDh5sd1c_DX1xaTrVTDVYx1csPc-WSceT-DDf8s         67   \n",
       "1        slM1hw-pMDh5sd1c_DX1xaTrVTDVYx1csPc-WSceT-DDf8s         81   \n",
       "2        slM1hw-pMDh5sd1c_DX1xaTrVTDVYx1csPc-WSceT-DDf8s        236   \n",
       "3        slM1hw-pMDh5sd1c_DX1xaTrVTDVYx1csPc-WSceT-DDf8s        157   \n",
       "4        slM1hw-pMDh5sd1c_DX1xaTrVTDVYx1csPc-WSceT-DDf8s        238   \n",
       "...                                                  ...        ...   \n",
       "175522   Jrr4LfmAQYAfrKbC7nXnsESZQYcO33059BivgdKOIwI1V8k         89   \n",
       "175523   Jrr4LfmAQYAfrKbC7nXnsESZQYcO33059BivgdKOIwI1V8k         17   \n",
       "175524   Jrr4LfmAQYAfrKbC7nXnsESZQYcO33059BivgdKOIwI1V8k          2   \n",
       "175525   Jrr4LfmAQYAfrKbC7nXnsESZQYcO33059BivgdKOIwI1V8k        412   \n",
       "175636  jkIPQPG98NmiVqjEdH4lqrgQeAshwBACB7P2OCAC0d7kdxd-         35   \n",
       "\n",
       "       championLevel championPoints  \n",
       "0                  7         978485  \n",
       "1                  7         183592  \n",
       "2                  7         156228  \n",
       "3                  7         125910  \n",
       "4                  7          62700  \n",
       "...              ...            ...  \n",
       "175522             7          66551  \n",
       "175523             6          50269  \n",
       "175524             5          45565  \n",
       "175525             6          32925  \n",
       "175636             6          43276  \n",
       "\n",
       "[34176 rows x 4 columns]"
      ]
     },
     "execution_count": 138,
     "metadata": {},
     "output_type": "execute_result"
    }
   ],
   "source": [
    "df6"
   ]
  },
  {
   "cell_type": "markdown",
   "metadata": {},
   "source": [
    "All the columns in this dataframe were of type object and then I tried to switch the championPoints column to int64's and I got errors, but they somehow changed to int64's so I have no code for how I got it to work, but it somehow worked. So if you were to retry running this code you would have to figure out how to fix it."
   ]
  },
  {
   "cell_type": "code",
   "execution_count": 229,
   "metadata": {},
   "outputs": [
    {
     "data": {
      "text/plain": [
       "championLevel\n",
       "5     35028.994270\n",
       "6     50589.348827\n",
       "7    128050.103366\n",
       "Name: championPoints, dtype: float64"
      ]
     },
     "execution_count": 229,
     "metadata": {},
     "output_type": "execute_result"
    }
   ],
   "source": [
    "temp = df6.groupby('championLevel')['championPoints'].mean()\n",
    "temp"
   ]
  },
  {
   "cell_type": "code",
   "execution_count": 236,
   "metadata": {},
   "outputs": [
    {
     "data": {
      "image/png": "[encoded data removed]",
      "text/plain": [
       "<Figure size 432x288 with 1 Axes>"
      ]
     },
     "metadata": {
      "needs_background": "light"
     },
     "output_type": "display_data"
    }
   ],
   "source": [
    "fig=plt.figure()\n",
    "plt.scatter(df6.championLevel, df6.championPoints)\n",
    "axis = fig.gca() #get current axis\n",
    "axis.set_title('Champion Level vs Champion Points')\n",
    "axis.set_xlabel('Champion Level')\n",
    "axis.set_ylabel('Champion Points')\n",
    "fig.canvas.draw()"
   ]
  },
  {
   "cell_type": "markdown",
   "metadata": {},
   "source": [
    "For championLevel 5 and 6 the points are close, because it only takes two s- grade games to upgrade to level 6 so someone who is mastery 5 shouldn't have too hard of a time. For level 7, it is the highest level so those are for mostly the people who like to \"main\" which means only play that champ or people who just like playing the champion semi regularly. Which makes sense that the scores will on average be higher with the outliers at the 400,000 and 600,000 ish marks because those are players that probably play that campion in 90%+ of their games. There are also people who don't upgrade their levels and have a lot of points but it doesn't seem to be any in this datapool."
   ]
  },
  {
   "cell_type": "code",
   "execution_count": 238,
   "metadata": {},
   "outputs": [
    {
     "data": {
      "image/png": "[encoded data removed]",
      "text/plain": [
       "<Figure size 432x288 with 1 Axes>"
      ]
     },
     "metadata": {
      "needs_background": "light"
     },
     "output_type": "display_data"
    }
   ],
   "source": [
    "fig=plt.figure()\n",
    "plt.scatter(df6.championId, df6.championPoints)\n",
    "axis = fig.gca() #get current axis\n",
    "axis.set_title('Champion ID vs Champion Points')\n",
    "axis.set_xlabel('Champion ID')\n",
    "axis.set_ylabel('Champion Points')\n",
    "fig.canvas.draw()"
   ]
  },
  {
   "cell_type": "markdown",
   "metadata": {},
   "source": [
    "The point spread is relatively even except for the outliers of high champion points for champions shown. "
   ]
  },
  {
   "cell_type": "code",
   "execution_count": 241,
   "metadata": {},
   "outputs": [
    {
     "data": {
      "image/png": "[encoded data removed]",
      "text/plain": [
       "<Figure size 432x288 with 1 Axes>"
      ]
     },
     "metadata": {
      "needs_background": "light"
     },
     "output_type": "display_data"
    }
   ],
   "source": [
    "first_digits = df6.championId\n",
    "first_digits = first_digits.sort_values()\n",
    "pylab.hist(first_digits, bins = 875)\n",
    "pylab.title(\"Champion ID vs. Frequency\")\n",
    "pylab.xlabel(\"Champion ID\")\n",
    "pylab.ylabel(\"Frequency\")\n",
    "pylab.show()"
   ]
  },
  {
   "cell_type": "markdown",
   "metadata": {},
   "source": [
    "There are some champions that have more players with points on those champions compared to others. There are some champions that are more popular because they are more fun, strong, or \"flashy\". I know the champion with the id 875 is a new champion that came out less than a month ago so there are going to be less players who have played that champion. This distribution looks normal to me and is what I expected."
   ]
  },
  {
   "cell_type": "code",
   "execution_count": null,
   "metadata": {},
   "outputs": [],
   "source": []
  }
 ],
 "metadata": {
  "kernelspec": {
   "display_name": "Python 3",
   "language": "python",
   "name": "python3"
  },
  "language_info": {
   "codemirror_mode": {
    "name": "ipython",
    "version": 3
   },
   "file_extension": ".py",
   "mimetype": "text/x-python",
   "name": "python",
   "nbconvert_exporter": "python",
   "pygments_lexer": "ipython3",
   "version": "3.6.8"
  }
 },
 "nbformat": 4,
 "nbformat_minor": 4
}
